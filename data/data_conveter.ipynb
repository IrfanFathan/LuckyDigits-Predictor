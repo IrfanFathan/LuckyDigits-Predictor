{
 "cells": [
  {
   "cell_type": "code",
   "execution_count": 6,
   "metadata": {},
   "outputs": [
    {
     "name": "stdout",
     "output_type": "stream",
     "text": [
      "       Date  1PM  3PM  6PM  8PM\n",
      "0  2-2-2025  772  241  841  146\n",
      "1  2-3-2025  865  883  887  832\n",
      "2  2-4-2025  972  457  512  138\n",
      "3  2-5-2025  479  393  654  216\n",
      "4  2-6-2025  893  469  935  776\n"
     ]
    }
   ],
   "source": [
    "import pandas as pd \n",
    "\n",
    "#load data set \n",
    "csv_data=pd.read_csv(\"data.csv\")\n",
    "\n",
    "print(csv_data.head())"
   ]
  },
  {
   "cell_type": "code",
   "execution_count": 7,
   "metadata": {},
   "outputs": [
    {
     "name": "stdout",
     "output_type": "stream",
     "text": [
      "         Date  1PM  3PM  6PM  8PM\n",
      "0  1738454400  772  241  841  146\n",
      "1  1738540800  865  883  887  832\n",
      "2  1738627200  972  457  512  138\n",
      "3  1738713600  479  393  654  216\n",
      "4  1738800000  893  469  935  776\n"
     ]
    }
   ],
   "source": [
    "csv_data[\"Date\"] = pd.to_datetime(csv_data[\"Date\"])\n",
    "csv_data[\"Date\"] = csv_data[\"Date\"].astype(int) // 10**9\n",
    "print(csv_data.head())"
   ]
  },
  {
   "cell_type": "code",
   "execution_count": 8,
   "metadata": {},
   "outputs": [
    {
     "name": "stdout",
     "output_type": "stream",
     "text": [
      "         Date  1PM  3PM  6PM  8PM\n",
      "0  1738454400   38    9   44    2\n",
      "1  1738540800   48   52   48   46\n",
      "2  1738627200   56   29   24    1\n",
      "3  1738713600   19   21   31    5\n",
      "4  1738800000   50   30   53   40\n"
     ]
    }
   ],
   "source": [
    "from sklearn.preprocessing import LabelEncoder\n",
    "\n",
    "# Initialize Label Encoder\n",
    "encoder = LabelEncoder()\n",
    "\n",
    "# Apply encoding to the lottery numbers\n",
    "csv_data[['1PM', '3PM', '6PM', '8PM']] = csv_data[['1PM', '3PM', '6PM', '8PM']].apply(encoder.fit_transform)\n",
    "\n",
    "print(csv_data.head())  # Check encoded dataset\n"
   ]
  },
  {
   "cell_type": "code",
   "execution_count": 9,
   "metadata": {},
   "outputs": [
    {
     "name": "stdout",
     "output_type": "stream",
     "text": [
      "Training Data Size: (48, 1) Testing Data Size: (12, 1)\n"
     ]
    }
   ],
   "source": [
    "from sklearn.model_selection import train_test_split\n",
    "\n",
    "# Define Features (X) and Target (y)\n",
    "X = csv_data[['Date']]  # Input feature (date)\n",
    "y = csv_data[['1PM', '3PM', '6PM', '8PM']]  # Targets (3-digit numbers)\n",
    "\n",
    "# Split into Train & Test\n",
    "X_train, X_test, y_train, y_test = train_test_split(X, y, test_size=0.2, random_state=42)\n",
    "\n",
    "print(\"Training Data Size:\", X_train.shape, \"Testing Data Size:\", X_test.shape)\n"
   ]
  }
 ],
 "metadata": {
  "kernelspec": {
   "display_name": "Python 3",
   "language": "python",
   "name": "python3"
  },
  "language_info": {
   "codemirror_mode": {
    "name": "ipython",
    "version": 3
   },
   "file_extension": ".py",
   "mimetype": "text/x-python",
   "name": "python",
   "nbconvert_exporter": "python",
   "pygments_lexer": "ipython3",
   "version": "3.11.4"
  }
 },
 "nbformat": 4,
 "nbformat_minor": 2
}
